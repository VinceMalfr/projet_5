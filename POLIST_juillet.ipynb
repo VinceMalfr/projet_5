{
 "cells": [
  {
   "cell_type": "markdown",
   "id": "f24d46d6",
   "metadata": {},
   "source": [
    "## Base de données juillet 2018\n",
    "Nous allons exécuter, les mêmes commandes sur notre dataset de juillet 2018 pour avoir une base comparable"
   ]
  },
  {
   "cell_type": "code",
   "execution_count": 1,
   "id": "3bbd5467",
   "metadata": {
    "ExecuteTime": {
     "end_time": "2022-03-07T11:04:52.701031Z",
     "start_time": "2022-03-07T11:04:50.940295Z"
    }
   },
   "outputs": [],
   "source": [
    "import pandas as pd\n",
    "import numpy as np\n",
    "import matplotlib.pyplot as plt\n",
    "import seaborn as sns\n",
    "import calendar"
   ]
  },
  {
   "cell_type": "code",
   "execution_count": 2,
   "id": "6536bbec",
   "metadata": {
    "ExecuteTime": {
     "end_time": "2022-03-07T11:04:53.569153Z",
     "start_time": "2022-03-07T11:04:52.703293Z"
    }
   },
   "outputs": [],
   "source": [
    "df = pd.read_csv('bdd_base.csv')\n",
    "df_2 = pd.read_csv('bdd_juillet.csv')\n",
    "df_2 = df_2.drop(columns=['Unnamed: 0'])"
   ]
  },
  {
   "cell_type": "code",
   "execution_count": 3,
   "id": "3d30f01a",
   "metadata": {
    "ExecuteTime": {
     "end_time": "2022-03-07T11:04:53.848710Z",
     "start_time": "2022-03-07T11:04:53.574001Z"
    }
   },
   "outputs": [],
   "source": [
    "datetime = ['order_purchase_timestamp', 'order_approved_at',\n",
    "            'order_delivered_customer_date', 'order_delivered_carrier_date',\n",
    "            'order_estimated_delivery_date']\n",
    "for col in datetime:\n",
    "    df[col] = df[col].astype('datetime64')\n",
    "\n",
    "df[['order_purchase_timestamp', 'order_delivered_customer_date']] = df[[\n",
    "    'order_purchase_timestamp', 'order_delivered_customer_date']].apply(pd.to_datetime)"
   ]
  },
  {
   "cell_type": "code",
   "execution_count": 4,
   "id": "2f764518",
   "metadata": {
    "ExecuteTime": {
     "end_time": "2022-03-07T11:04:53.885677Z",
     "start_time": "2022-03-07T11:04:53.850678Z"
    }
   },
   "outputs": [],
   "source": [
    "datetime = ['order_purchase_timestamp', 'order_approved_at',\n",
    "            'order_delivered_customer_date', 'order_delivered_carrier_date',\n",
    "            'order_estimated_delivery_date']\n",
    "for col in datetime:\n",
    "    df_2[col] = df_2[col].astype('datetime64')\n",
    "\n",
    "df_2[['order_purchase_timestamp', 'order_delivered_customer_date']] = df_2[[\n",
    "    'order_purchase_timestamp', 'order_delivered_customer_date']].apply(pd.to_datetime)"
   ]
  },
  {
   "cell_type": "code",
   "execution_count": 5,
   "id": "40bb522b",
   "metadata": {
    "ExecuteTime": {
     "end_time": "2022-03-07T11:04:53.895235Z",
     "start_time": "2022-03-07T11:04:53.887208Z"
    }
   },
   "outputs": [],
   "source": [
    "def categorisation(x):\n",
    "    if x < 3:\n",
    "        return 0\n",
    "    return 1\n",
    "\n",
    "\n",
    "df_2['satisfaction'] = df_2['review_score'].map(lambda x: categorisation(x))"
   ]
  },
  {
   "cell_type": "code",
   "execution_count": 6,
   "id": "32502f4e",
   "metadata": {
    "ExecuteTime": {
     "end_time": "2022-03-07T11:04:53.909460Z",
     "start_time": "2022-03-07T11:04:53.897439Z"
    }
   },
   "outputs": [],
   "source": [
    "df_2['temps_livraisons'] = (df_2.order_delivered_customer_date - \n",
    "                            df_2.order_purchase_timestamp).dt.round('1d').dt.days\n",
    "\n",
    "df_2['retard_livraisons'] = (df_2.order_delivered_customer_date -\n",
    "                             df_2.order_estimated_delivery_date).dt.round('1d').dt.days\n",
    "\n",
    "\n",
    "def retard(x):\n",
    "    if x < 0:\n",
    "        return 0\n",
    "    return x\n",
    "\n",
    "\n",
    "df_2['retard_livraisons'] = df_2['retard_livraisons'].map(lambda x: retard(x))"
   ]
  },
  {
   "cell_type": "code",
   "execution_count": 7,
   "id": "dd8f0038",
   "metadata": {
    "ExecuteTime": {
     "end_time": "2022-03-07T11:04:53.921317Z",
     "start_time": "2022-03-07T11:04:53.910954Z"
    }
   },
   "outputs": [],
   "source": [
    "def noms(x):\n",
    "    if x in ['bed_bath_table', 'health_beauty', 'sports_leisure', 'furniture_decor',\n",
    "             'computers_accessories', 'housewares', 'watches_gifts', 'telephony',\n",
    "             'garden_tools', 'auto', 'toys', 'cool_stuff', 'perfumery', 'baby',\n",
    "             'electronics']:\n",
    "        return x\n",
    "    return 'autres'\n",
    "\n",
    "\n",
    "df_2['product_category_name'] = df_2['product_category_name_english'].map(\n",
    "    lambda x: noms(x))\n",
    "\n",
    "df_2.drop(\"product_category_name_english\", axis=1, inplace=True)"
   ]
  },
  {
   "cell_type": "code",
   "execution_count": 8,
   "id": "c0af9437",
   "metadata": {
    "ExecuteTime": {
     "end_time": "2022-03-07T11:04:53.935025Z",
     "start_time": "2022-03-07T11:04:53.923456Z"
    }
   },
   "outputs": [],
   "source": [
    "df_2['mois_vente'] = pd.Series(pd.Categorical(\n",
    "    df['order_purchase_timestamp'].dt.month))"
   ]
  },
  {
   "cell_type": "code",
   "execution_count": 9,
   "id": "137ae5e5",
   "metadata": {
    "ExecuteTime": {
     "end_time": "2022-03-07T11:04:53.957178Z",
     "start_time": "2022-03-07T11:04:53.936529Z"
    }
   },
   "outputs": [],
   "source": [
    "categories_client = df_2.groupby([\"customer_unique_id\",\n",
    "                                  \"product_category_name\"]).agg({\n",
    "                                      'order_item_id': 'count'}).unstack()\n",
    "categories_client.fillna(0, inplace=True)\n",
    "categories_client.columns = categories_client.columns.droplevel(0)\n",
    "categories_client[\"total_items\"] = categories_client.sum(axis=1)"
   ]
  },
  {
   "cell_type": "code",
   "execution_count": 10,
   "id": "bae1577d",
   "metadata": {
    "ExecuteTime": {
     "end_time": "2022-03-07T11:04:53.979114Z",
     "start_time": "2022-03-07T11:04:53.958711Z"
    }
   },
   "outputs": [],
   "source": [
    "products_per_order = df_2.groupby([\"customer_unique_id\", 'order_id']).agg({\n",
    "    \"order_item_id\": \"count\"})\n",
    "\n",
    "products_per_order = products_per_order.rename(\n",
    "    columns={\"order_item_id\": \"products_per_order_mean\"})\n",
    "\n",
    "products_per_order = products_per_order.groupby(\"customer_unique_id\")\\\n",
    "    .agg({\"products_per_order_mean\": \"mean\"})"
   ]
  },
  {
   "cell_type": "code",
   "execution_count": 11,
   "id": "7c6c378f",
   "metadata": {
    "ExecuteTime": {
     "end_time": "2022-03-07T11:04:53.996756Z",
     "start_time": "2022-03-07T11:04:53.980401Z"
    },
    "scrolled": true
   },
   "outputs": [
    {
     "data": {
      "text/html": [
       "<div>\n",
       "<style scoped>\n",
       "    .dataframe tbody tr th:only-of-type {\n",
       "        vertical-align: middle;\n",
       "    }\n",
       "\n",
       "    .dataframe tbody tr th {\n",
       "        vertical-align: top;\n",
       "    }\n",
       "\n",
       "    .dataframe thead th {\n",
       "        text-align: right;\n",
       "    }\n",
       "</style>\n",
       "<table border=\"1\" class=\"dataframe\">\n",
       "  <thead>\n",
       "    <tr style=\"text-align: right;\">\n",
       "      <th></th>\n",
       "      <th>customer_unique_id</th>\n",
       "      <th>customer_state</th>\n",
       "      <th>mois_vente</th>\n",
       "    </tr>\n",
       "  </thead>\n",
       "  <tbody>\n",
       "    <tr>\n",
       "      <th>0</th>\n",
       "      <td>2ecddf370925aff428e58b4f6021fe38</td>\n",
       "      <td>autres</td>\n",
       "      <td>4</td>\n",
       "    </tr>\n",
       "    <tr>\n",
       "      <th>1</th>\n",
       "      <td>d0ad8d078320fd639fe1ef1bcbe0e4af</td>\n",
       "      <td>SP</td>\n",
       "      <td>6</td>\n",
       "    </tr>\n",
       "    <tr>\n",
       "      <th>2</th>\n",
       "      <td>52cf00bf99b259287bcd5b5a766adf2a</td>\n",
       "      <td>SP</td>\n",
       "      <td>12</td>\n",
       "    </tr>\n",
       "    <tr>\n",
       "      <th>3</th>\n",
       "      <td>5b7f468205743c98e58a379722d3ae79</td>\n",
       "      <td>SP</td>\n",
       "      <td>12</td>\n",
       "    </tr>\n",
       "    <tr>\n",
       "      <th>4</th>\n",
       "      <td>5b7f468205743c98e58a379722d3ae79</td>\n",
       "      <td>SP</td>\n",
       "      <td>5</td>\n",
       "    </tr>\n",
       "  </tbody>\n",
       "</table>\n",
       "</div>"
      ],
      "text/plain": [
       "                 customer_unique_id customer_state mois_vente\n",
       "0  2ecddf370925aff428e58b4f6021fe38         autres          4\n",
       "1  d0ad8d078320fd639fe1ef1bcbe0e4af             SP          6\n",
       "2  52cf00bf99b259287bcd5b5a766adf2a             SP         12\n",
       "3  5b7f468205743c98e58a379722d3ae79             SP         12\n",
       "4  5b7f468205743c98e58a379722d3ae79             SP          5"
      ]
     },
     "execution_count": 11,
     "metadata": {},
     "output_type": "execute_result"
    }
   ],
   "source": [
    "def noms(x):\n",
    "    if x in ['SP', 'RJ', 'MG', 'RS',\n",
    "             'PR', 'SC']:\n",
    "        return x\n",
    "    return 'autres'\n",
    "\n",
    "\n",
    "df_2['customer_state'] = df_2['customer_state'].map(lambda x: noms(x))\n",
    "\n",
    "df_f = df_2.reindex(columns=[\"customer_unique_id\",\n",
    "                    \"customer_state\", 'mois_vente'])\n",
    "df_f.head()"
   ]
  },
  {
   "cell_type": "code",
   "execution_count": 12,
   "id": "4b93821c",
   "metadata": {
    "ExecuteTime": {
     "end_time": "2022-03-07T11:04:54.020500Z",
     "start_time": "2022-03-07T11:04:54.002358Z"
    }
   },
   "outputs": [],
   "source": [
    "recurencies = df_2.groupby(\"customer_unique_id\")\\\n",
    "    .agg({\"order_purchase_timestamp\": [\"min\", \"max\"]})\n",
    "recurencies.columns = recurencies.columns.droplevel(0)\n",
    "\n",
    "recurencies['delay_e_commande'] = (\n",
    "    recurencies[\"max\"] - recurencies[\"min\"]).round('1d')\n",
    "recurencies['max_comma'] = df_2['order_purchase_timestamp'].max()\n",
    "recurencies['order_total_delais'] = (\n",
    "    recurencies['max_comma'] - recurencies['max']).round('1d')\n",
    "\n",
    "recurencies.drop([\"min\", \"max\", 'max_comma'], axis=1, inplace=True)"
   ]
  },
  {
   "cell_type": "code",
   "execution_count": 13,
   "id": "5c0c6df6",
   "metadata": {
    "ExecuteTime": {
     "end_time": "2022-03-07T11:04:54.030940Z",
     "start_time": "2022-03-07T11:04:54.022940Z"
    }
   },
   "outputs": [],
   "source": [
    "recurencies['delay_e_commande'] = recurencies['delay_e_commande'].dt.days.astype(\n",
    "    'int64')\n",
    "recurencies['order_total_delais'] = recurencies['order_total_delais'].dt.days.astype(\n",
    "    'int64')\n",
    "\n",
    "recurencies.drop(['delay_e_commande'], axis=1, inplace=True)"
   ]
  },
  {
   "cell_type": "code",
   "execution_count": 14,
   "id": "a471fc2c",
   "metadata": {
    "ExecuteTime": {
     "end_time": "2022-03-07T11:04:54.038067Z",
     "start_time": "2022-03-07T11:04:54.032327Z"
    }
   },
   "outputs": [],
   "source": [
    "df_2 = df_2.rename(columns={\"order_id\": \"nb_commandes\",\n",
    "                            \"retard_livraisons\": \"retard_livraisons_mean\",\n",
    "                            \"temps_livraisons\": \"temps_livraisons_mean\",\n",
    "                            \"satisfaction\": \"satisfaction_mean\",\n",
    "                            \"review_score\": \"review_score_mean\",\n",
    "                            \"freight_value\": \"fdp_total\",\n",
    "                            \"price\": \"price_total\",\n",
    "                            \"payment_sequential\": \"moyen_payment_mean\",\n",
    "                            \"payment_installments\": \"versement_payment_mean\"\n",
    "                            })"
   ]
  },
  {
   "cell_type": "code",
   "execution_count": 15,
   "id": "935c92ef",
   "metadata": {
    "ExecuteTime": {
     "end_time": "2022-03-07T11:04:55.459371Z",
     "start_time": "2022-03-07T11:04:54.040939Z"
    }
   },
   "outputs": [],
   "source": [
    "df_2 = df_2.groupby('customer_unique_id')\\\n",
    "    .agg({'nb_commandes': 'nunique',\n",
    "          'retard_livraisons_mean': 'mean',\n",
    "          'temps_livraisons_mean': 'mean',\n",
    "          'satisfaction_mean': 'mean',\n",
    "          'review_score_mean': 'mean',\n",
    "          'fdp_total': 'sum',\n",
    "          'price_total': 'sum',\n",
    "          'moyen_payment_mean': 'mean',\n",
    "          'versement_payment_mean': 'mean',\n",
    "          'Year': lambda x: x.value_counts().index[0]})\n",
    "\n",
    "df_2 = pd.merge(df_2, categories_client,\n",
    "                how=\"left\",\n",
    "                on=\"customer_unique_id\")\n",
    "\n",
    "df_2 = pd.merge(df_2, products_per_order,\n",
    "                how='left',\n",
    "                on='customer_unique_id')\n",
    "\n",
    "df_2 = pd.merge(df_2, df_f,\n",
    "                how='left',\n",
    "                on='customer_unique_id')\n",
    "\n",
    "df_2 = pd.merge(df_2, recurencies,\n",
    "                how='left',\n",
    "                on='customer_unique_id')"
   ]
  },
  {
   "cell_type": "code",
   "execution_count": 16,
   "id": "d2f545c0",
   "metadata": {
    "ExecuteTime": {
     "end_time": "2022-03-07T11:04:55.475075Z",
     "start_time": "2022-03-07T11:04:55.461366Z"
    }
   },
   "outputs": [],
   "source": [
    "df_2.drop_duplicates(subset=\"customer_unique_id\", keep=\"first\", inplace=True)"
   ]
  },
  {
   "cell_type": "code",
   "execution_count": 17,
   "id": "d4cb3237",
   "metadata": {
    "ExecuteTime": {
     "end_time": "2022-03-07T11:04:55.488209Z",
     "start_time": "2022-03-07T11:04:55.477995Z"
    }
   },
   "outputs": [],
   "source": [
    "borne = round(np.percentile(df_2[\"price_total\"].values, 99), 2)\n",
    "df_2 = df_2.loc[df_2[\"price_total\"] < borne]\n",
    "\n",
    "borne = round(np.percentile(df_2[\"fdp_total\"].values, 99), 2)\n",
    "df_2 = df_2.loc[df_2[\"fdp_total\"] < borne]"
   ]
  },
  {
   "cell_type": "code",
   "execution_count": 18,
   "id": "f1cf5cc8",
   "metadata": {
    "ExecuteTime": {
     "end_time": "2022-03-07T11:04:55.530162Z",
     "start_time": "2022-03-07T11:04:55.490911Z"
    }
   },
   "outputs": [
    {
     "data": {
      "text/html": [
       "<div>\n",
       "<style scoped>\n",
       "    .dataframe tbody tr th:only-of-type {\n",
       "        vertical-align: middle;\n",
       "    }\n",
       "\n",
       "    .dataframe tbody tr th {\n",
       "        vertical-align: top;\n",
       "    }\n",
       "\n",
       "    .dataframe thead th {\n",
       "        text-align: right;\n",
       "    }\n",
       "</style>\n",
       "<table border=\"1\" class=\"dataframe\">\n",
       "  <thead>\n",
       "    <tr style=\"text-align: right;\">\n",
       "      <th></th>\n",
       "      <th>customer_unique_id</th>\n",
       "      <th>nb_commandes</th>\n",
       "      <th>retard_livraisons_mean</th>\n",
       "      <th>temps_livraisons_mean</th>\n",
       "      <th>satisfaction_mean</th>\n",
       "      <th>review_score_mean</th>\n",
       "      <th>fdp_total</th>\n",
       "      <th>price_total</th>\n",
       "      <th>moyen_payment_mean</th>\n",
       "      <th>versement_payment_mean</th>\n",
       "      <th>...</th>\n",
       "      <th>perfumery</th>\n",
       "      <th>sports_leisure</th>\n",
       "      <th>telephony</th>\n",
       "      <th>toys</th>\n",
       "      <th>watches_gifts</th>\n",
       "      <th>total_items</th>\n",
       "      <th>products_per_order_mean</th>\n",
       "      <th>customer_state</th>\n",
       "      <th>mois_vente</th>\n",
       "      <th>order_total_delais</th>\n",
       "    </tr>\n",
       "  </thead>\n",
       "  <tbody>\n",
       "    <tr>\n",
       "      <th>0</th>\n",
       "      <td>000fbf0473c10fc1ab6f8d2d286ce20c</td>\n",
       "      <td>1</td>\n",
       "      <td>0.0</td>\n",
       "      <td>8.0</td>\n",
       "      <td>1.0</td>\n",
       "      <td>5.0</td>\n",
       "      <td>76.56</td>\n",
       "      <td>285.80</td>\n",
       "      <td>1.0</td>\n",
       "      <td>1.0</td>\n",
       "      <td>...</td>\n",
       "      <td>0.0</td>\n",
       "      <td>0.0</td>\n",
       "      <td>0.0</td>\n",
       "      <td>2.0</td>\n",
       "      <td>0.0</td>\n",
       "      <td>4.0</td>\n",
       "      <td>4.0</td>\n",
       "      <td>SP</td>\n",
       "      <td>7</td>\n",
       "      <td>6</td>\n",
       "    </tr>\n",
       "    <tr>\n",
       "      <th>4</th>\n",
       "      <td>00172711b30d52eea8b313a7f2cced02</td>\n",
       "      <td>1</td>\n",
       "      <td>0.0</td>\n",
       "      <td>11.0</td>\n",
       "      <td>1.0</td>\n",
       "      <td>4.0</td>\n",
       "      <td>47.57</td>\n",
       "      <td>74.50</td>\n",
       "      <td>1.0</td>\n",
       "      <td>2.0</td>\n",
       "      <td>...</td>\n",
       "      <td>0.0</td>\n",
       "      <td>0.0</td>\n",
       "      <td>0.0</td>\n",
       "      <td>0.0</td>\n",
       "      <td>0.0</td>\n",
       "      <td>1.0</td>\n",
       "      <td>1.0</td>\n",
       "      <td>autres</td>\n",
       "      <td>7</td>\n",
       "      <td>4</td>\n",
       "    </tr>\n",
       "    <tr>\n",
       "      <th>5</th>\n",
       "      <td>00196c4c9a3af7dd2ad10eade69c926f</td>\n",
       "      <td>1</td>\n",
       "      <td>0.0</td>\n",
       "      <td>17.0</td>\n",
       "      <td>1.0</td>\n",
       "      <td>5.0</td>\n",
       "      <td>15.26</td>\n",
       "      <td>22.32</td>\n",
       "      <td>1.0</td>\n",
       "      <td>1.0</td>\n",
       "      <td>...</td>\n",
       "      <td>0.0</td>\n",
       "      <td>0.0</td>\n",
       "      <td>0.0</td>\n",
       "      <td>0.0</td>\n",
       "      <td>0.0</td>\n",
       "      <td>1.0</td>\n",
       "      <td>1.0</td>\n",
       "      <td>SP</td>\n",
       "      <td>6</td>\n",
       "      <td>4</td>\n",
       "    </tr>\n",
       "    <tr>\n",
       "      <th>6</th>\n",
       "      <td>001a34eb30ecb8e3aacb07c475ca4dd1</td>\n",
       "      <td>1</td>\n",
       "      <td>0.0</td>\n",
       "      <td>2.0</td>\n",
       "      <td>1.0</td>\n",
       "      <td>5.0</td>\n",
       "      <td>9.81</td>\n",
       "      <td>151.90</td>\n",
       "      <td>1.0</td>\n",
       "      <td>1.0</td>\n",
       "      <td>...</td>\n",
       "      <td>0.0</td>\n",
       "      <td>0.0</td>\n",
       "      <td>0.0</td>\n",
       "      <td>0.0</td>\n",
       "      <td>0.0</td>\n",
       "      <td>1.0</td>\n",
       "      <td>1.0</td>\n",
       "      <td>SP</td>\n",
       "      <td>2</td>\n",
       "      <td>20</td>\n",
       "    </tr>\n",
       "    <tr>\n",
       "      <th>7</th>\n",
       "      <td>0025795df7a7d077c4c90162fa820085</td>\n",
       "      <td>1</td>\n",
       "      <td>0.0</td>\n",
       "      <td>3.0</td>\n",
       "      <td>0.0</td>\n",
       "      <td>1.0</td>\n",
       "      <td>36.18</td>\n",
       "      <td>177.90</td>\n",
       "      <td>1.0</td>\n",
       "      <td>3.0</td>\n",
       "      <td>...</td>\n",
       "      <td>0.0</td>\n",
       "      <td>0.0</td>\n",
       "      <td>0.0</td>\n",
       "      <td>0.0</td>\n",
       "      <td>0.0</td>\n",
       "      <td>2.0</td>\n",
       "      <td>2.0</td>\n",
       "      <td>SP</td>\n",
       "      <td>7</td>\n",
       "      <td>8</td>\n",
       "    </tr>\n",
       "    <tr>\n",
       "      <th>9</th>\n",
       "      <td>003162bf0351f47a1a247992b8b9b42d</td>\n",
       "      <td>1</td>\n",
       "      <td>0.0</td>\n",
       "      <td>9.0</td>\n",
       "      <td>1.0</td>\n",
       "      <td>5.0</td>\n",
       "      <td>21.70</td>\n",
       "      <td>514.90</td>\n",
       "      <td>1.0</td>\n",
       "      <td>10.0</td>\n",
       "      <td>...</td>\n",
       "      <td>0.0</td>\n",
       "      <td>0.0</td>\n",
       "      <td>0.0</td>\n",
       "      <td>0.0</td>\n",
       "      <td>0.0</td>\n",
       "      <td>1.0</td>\n",
       "      <td>1.0</td>\n",
       "      <td>autres</td>\n",
       "      <td>1</td>\n",
       "      <td>17</td>\n",
       "    </tr>\n",
       "    <tr>\n",
       "      <th>10</th>\n",
       "      <td>0032ca69771a7758ce643258bb9e4ac7</td>\n",
       "      <td>1</td>\n",
       "      <td>0.0</td>\n",
       "      <td>7.0</td>\n",
       "      <td>1.0</td>\n",
       "      <td>5.0</td>\n",
       "      <td>17.45</td>\n",
       "      <td>45.00</td>\n",
       "      <td>1.0</td>\n",
       "      <td>2.0</td>\n",
       "      <td>...</td>\n",
       "      <td>0.0</td>\n",
       "      <td>0.0</td>\n",
       "      <td>0.0</td>\n",
       "      <td>0.0</td>\n",
       "      <td>0.0</td>\n",
       "      <td>1.0</td>\n",
       "      <td>1.0</td>\n",
       "      <td>SP</td>\n",
       "      <td>12</td>\n",
       "      <td>15</td>\n",
       "    </tr>\n",
       "    <tr>\n",
       "      <th>11</th>\n",
       "      <td>00344274804f3b8003de1b0562ae01df</td>\n",
       "      <td>1</td>\n",
       "      <td>0.0</td>\n",
       "      <td>14.0</td>\n",
       "      <td>1.0</td>\n",
       "      <td>3.0</td>\n",
       "      <td>38.23</td>\n",
       "      <td>188.00</td>\n",
       "      <td>1.0</td>\n",
       "      <td>5.0</td>\n",
       "      <td>...</td>\n",
       "      <td>0.0</td>\n",
       "      <td>0.0</td>\n",
       "      <td>0.0</td>\n",
       "      <td>0.0</td>\n",
       "      <td>0.0</td>\n",
       "      <td>1.0</td>\n",
       "      <td>1.0</td>\n",
       "      <td>autres</td>\n",
       "      <td>6</td>\n",
       "      <td>22</td>\n",
       "    </tr>\n",
       "    <tr>\n",
       "      <th>12</th>\n",
       "      <td>003a5571a07dcf09bf117d13d2980ba3</td>\n",
       "      <td>1</td>\n",
       "      <td>0.0</td>\n",
       "      <td>13.0</td>\n",
       "      <td>1.0</td>\n",
       "      <td>5.0</td>\n",
       "      <td>31.92</td>\n",
       "      <td>149.90</td>\n",
       "      <td>1.0</td>\n",
       "      <td>2.0</td>\n",
       "      <td>...</td>\n",
       "      <td>0.0</td>\n",
       "      <td>0.0</td>\n",
       "      <td>0.0</td>\n",
       "      <td>0.0</td>\n",
       "      <td>0.0</td>\n",
       "      <td>1.0</td>\n",
       "      <td>1.0</td>\n",
       "      <td>autres</td>\n",
       "      <td>5</td>\n",
       "      <td>7</td>\n",
       "    </tr>\n",
       "    <tr>\n",
       "      <th>13</th>\n",
       "      <td>003fb95e849e71e732629d94bb92762f</td>\n",
       "      <td>1</td>\n",
       "      <td>0.0</td>\n",
       "      <td>5.0</td>\n",
       "      <td>1.0</td>\n",
       "      <td>5.0</td>\n",
       "      <td>19.60</td>\n",
       "      <td>57.99</td>\n",
       "      <td>1.0</td>\n",
       "      <td>4.0</td>\n",
       "      <td>...</td>\n",
       "      <td>0.0</td>\n",
       "      <td>0.0</td>\n",
       "      <td>0.0</td>\n",
       "      <td>0.0</td>\n",
       "      <td>0.0</td>\n",
       "      <td>1.0</td>\n",
       "      <td>1.0</td>\n",
       "      <td>SP</td>\n",
       "      <td>4</td>\n",
       "      <td>2</td>\n",
       "    </tr>\n",
       "  </tbody>\n",
       "</table>\n",
       "<p>10 rows × 32 columns</p>\n",
       "</div>"
      ],
      "text/plain": [
       "                  customer_unique_id  nb_commandes  retard_livraisons_mean  \\\n",
       "0   000fbf0473c10fc1ab6f8d2d286ce20c             1                     0.0   \n",
       "4   00172711b30d52eea8b313a7f2cced02             1                     0.0   \n",
       "5   00196c4c9a3af7dd2ad10eade69c926f             1                     0.0   \n",
       "6   001a34eb30ecb8e3aacb07c475ca4dd1             1                     0.0   \n",
       "7   0025795df7a7d077c4c90162fa820085             1                     0.0   \n",
       "9   003162bf0351f47a1a247992b8b9b42d             1                     0.0   \n",
       "10  0032ca69771a7758ce643258bb9e4ac7             1                     0.0   \n",
       "11  00344274804f3b8003de1b0562ae01df             1                     0.0   \n",
       "12  003a5571a07dcf09bf117d13d2980ba3             1                     0.0   \n",
       "13  003fb95e849e71e732629d94bb92762f             1                     0.0   \n",
       "\n",
       "    temps_livraisons_mean  satisfaction_mean  review_score_mean  fdp_total  \\\n",
       "0                     8.0                1.0                5.0      76.56   \n",
       "4                    11.0                1.0                4.0      47.57   \n",
       "5                    17.0                1.0                5.0      15.26   \n",
       "6                     2.0                1.0                5.0       9.81   \n",
       "7                     3.0                0.0                1.0      36.18   \n",
       "9                     9.0                1.0                5.0      21.70   \n",
       "10                    7.0                1.0                5.0      17.45   \n",
       "11                   14.0                1.0                3.0      38.23   \n",
       "12                   13.0                1.0                5.0      31.92   \n",
       "13                    5.0                1.0                5.0      19.60   \n",
       "\n",
       "    price_total  moyen_payment_mean  versement_payment_mean  ...  perfumery  \\\n",
       "0        285.80                 1.0                     1.0  ...        0.0   \n",
       "4         74.50                 1.0                     2.0  ...        0.0   \n",
       "5         22.32                 1.0                     1.0  ...        0.0   \n",
       "6        151.90                 1.0                     1.0  ...        0.0   \n",
       "7        177.90                 1.0                     3.0  ...        0.0   \n",
       "9        514.90                 1.0                    10.0  ...        0.0   \n",
       "10        45.00                 1.0                     2.0  ...        0.0   \n",
       "11       188.00                 1.0                     5.0  ...        0.0   \n",
       "12       149.90                 1.0                     2.0  ...        0.0   \n",
       "13        57.99                 1.0                     4.0  ...        0.0   \n",
       "\n",
       "    sports_leisure  telephony  toys  watches_gifts  total_items  \\\n",
       "0              0.0        0.0   2.0            0.0          4.0   \n",
       "4              0.0        0.0   0.0            0.0          1.0   \n",
       "5              0.0        0.0   0.0            0.0          1.0   \n",
       "6              0.0        0.0   0.0            0.0          1.0   \n",
       "7              0.0        0.0   0.0            0.0          2.0   \n",
       "9              0.0        0.0   0.0            0.0          1.0   \n",
       "10             0.0        0.0   0.0            0.0          1.0   \n",
       "11             0.0        0.0   0.0            0.0          1.0   \n",
       "12             0.0        0.0   0.0            0.0          1.0   \n",
       "13             0.0        0.0   0.0            0.0          1.0   \n",
       "\n",
       "    products_per_order_mean  customer_state  mois_vente  order_total_delais  \n",
       "0                       4.0              SP           7                   6  \n",
       "4                       1.0          autres           7                   4  \n",
       "5                       1.0              SP           6                   4  \n",
       "6                       1.0              SP           2                  20  \n",
       "7                       2.0              SP           7                   8  \n",
       "9                       1.0          autres           1                  17  \n",
       "10                      1.0              SP          12                  15  \n",
       "11                      1.0          autres           6                  22  \n",
       "12                      1.0          autres           5                   7  \n",
       "13                      1.0              SP           4                   2  \n",
       "\n",
       "[10 rows x 32 columns]"
      ]
     },
     "execution_count": 18,
     "metadata": {},
     "output_type": "execute_result"
    }
   ],
   "source": [
    "df_2.head(10)"
   ]
  },
  {
   "cell_type": "code",
   "execution_count": 19,
   "id": "07d6ae60",
   "metadata": {
    "ExecuteTime": {
     "end_time": "2022-03-07T11:04:55.535478Z",
     "start_time": "2022-03-07T11:04:55.532014Z"
    }
   },
   "outputs": [
    {
     "name": "stdout",
     "output_type": "stream",
     "text": [
      "Nombre de lignes 5930 et 32 variables\n"
     ]
    }
   ],
   "source": [
    "print(\"Nombre de lignes {} et {} variables\".format(\n",
    "    df_2.shape[0], df_2.shape[1]))"
   ]
  },
  {
   "cell_type": "markdown",
   "id": "c429cf57",
   "metadata": {},
   "source": [
    "# Exportation dataset final "
   ]
  },
  {
   "cell_type": "code",
   "execution_count": 20,
   "id": "26a679fd",
   "metadata": {
    "ExecuteTime": {
     "end_time": "2022-03-07T11:04:55.648413Z",
     "start_time": "2022-03-07T11:04:55.537053Z"
    }
   },
   "outputs": [],
   "source": [
    "df_2.to_csv('customers-segmentation-juillet.csv')"
   ]
  }
 ],
 "metadata": {
  "kernelspec": {
   "display_name": "Python 3 (ipykernel)",
   "language": "python",
   "name": "python3"
  },
  "language_info": {
   "codemirror_mode": {
    "name": "ipython",
    "version": 3
   },
   "file_extension": ".py",
   "mimetype": "text/x-python",
   "name": "python",
   "nbconvert_exporter": "python",
   "pygments_lexer": "ipython3",
   "version": "3.9.7"
  }
 },
 "nbformat": 4,
 "nbformat_minor": 5
}
