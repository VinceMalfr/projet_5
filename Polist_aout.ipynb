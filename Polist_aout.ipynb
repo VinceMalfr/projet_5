{
 "cells": [
  {
   "cell_type": "markdown",
   "id": "e97b5f78",
   "metadata": {},
   "source": [
    "## Base de données Aout 2018\n",
    "Nous allons exécuter, les mêmes commandes sur notre dataset de juillet 2018 pour avoir une base comparable"
   ]
  },
  {
   "cell_type": "code",
   "execution_count": 1,
   "id": "0d6c31fd",
   "metadata": {
    "ExecuteTime": {
     "end_time": "2022-03-07T11:06:04.508344Z",
     "start_time": "2022-03-07T11:06:02.749643Z"
    }
   },
   "outputs": [],
   "source": [
    "import pandas as pd\n",
    "import numpy as np\n",
    "import matplotlib.pyplot as plt\n",
    "import seaborn as sns\n",
    "import calendar"
   ]
  },
  {
   "cell_type": "code",
   "execution_count": 2,
   "id": "2379b015",
   "metadata": {
    "ExecuteTime": {
     "end_time": "2022-03-07T11:06:05.418199Z",
     "start_time": "2022-03-07T11:06:04.510596Z"
    }
   },
   "outputs": [],
   "source": [
    "df = pd.read_csv('bdd_base.csv')\n",
    "df_3 = pd.read_csv('bdd_aout.csv')\n",
    "df_3 = df_3.drop(columns=['Unnamed: 0'])"
   ]
  },
  {
   "cell_type": "code",
   "execution_count": 3,
   "id": "f16306f8",
   "metadata": {
    "ExecuteTime": {
     "end_time": "2022-03-07T11:06:05.701030Z",
     "start_time": "2022-03-07T11:06:05.421932Z"
    }
   },
   "outputs": [],
   "source": [
    "datetime = ['order_purchase_timestamp', 'order_approved_at',\n",
    "            'order_delivered_customer_date', 'order_delivered_carrier_date',\n",
    "            'order_estimated_delivery_date']\n",
    "for col in datetime:\n",
    "    df[col] = df[col].astype('datetime64')\n",
    "\n",
    "df[['order_purchase_timestamp', 'order_delivered_customer_date']] = df[[\n",
    "    'order_purchase_timestamp', 'order_delivered_customer_date']].apply(pd.to_datetime)"
   ]
  },
  {
   "cell_type": "code",
   "execution_count": 4,
   "id": "aba2bcc2",
   "metadata": {
    "ExecuteTime": {
     "end_time": "2022-03-07T11:06:05.753331Z",
     "start_time": "2022-03-07T11:06:05.702706Z"
    }
   },
   "outputs": [
    {
     "name": "stdout",
     "output_type": "stream",
     "text": [
      "<class 'pandas.core.frame.DataFrame'>\n",
      "RangeIndex: 7319 entries, 0 to 7318\n",
      "Data columns (total 28 columns):\n",
      " #   Column                         Non-Null Count  Dtype         \n",
      "---  ------                         --------------  -----         \n",
      " 0   order_id                       7319 non-null   object        \n",
      " 1   payment_sequential             7319 non-null   int64         \n",
      " 2   payment_type                   7319 non-null   object        \n",
      " 3   payment_installments           7319 non-null   int64         \n",
      " 4   payment_value                  7319 non-null   float64       \n",
      " 5   customer_id                    7319 non-null   object        \n",
      " 6   order_status                   7319 non-null   object        \n",
      " 7   order_purchase_timestamp       7319 non-null   datetime64[ns]\n",
      " 8   order_approved_at              7319 non-null   datetime64[ns]\n",
      " 9   order_delivered_carrier_date   7319 non-null   datetime64[ns]\n",
      " 10  order_delivered_customer_date  7319 non-null   datetime64[ns]\n",
      " 11  order_estimated_delivery_date  7319 non-null   datetime64[ns]\n",
      " 12  review_score                   7319 non-null   int64         \n",
      " 13  customer_unique_id             7319 non-null   object        \n",
      " 14  customer_zip_code_prefix       7319 non-null   int64         \n",
      " 15  customer_city                  7319 non-null   object        \n",
      " 16  customer_state                 7319 non-null   object        \n",
      " 17  product_id                     7319 non-null   object        \n",
      " 18  product_name_lenght            7319 non-null   float64       \n",
      " 19  product_description_lenght     7319 non-null   float64       \n",
      " 20  product_photos_qty             7319 non-null   float64       \n",
      " 21  product_category_name_english  7319 non-null   object        \n",
      " 22  order_item_id                  7319 non-null   int64         \n",
      " 23  price                          7319 non-null   float64       \n",
      " 24  freight_value                  7319 non-null   float64       \n",
      " 25  Year                           7319 non-null   int64         \n",
      " 26  MonthY                         7319 non-null   object        \n",
      " 27  Day                            6979 non-null   object        \n",
      "dtypes: datetime64[ns](5), float64(6), int64(6), object(11)\n",
      "memory usage: 1.6+ MB\n",
      "None\n"
     ]
    }
   ],
   "source": [
    "datetime = ['order_purchase_timestamp', 'order_approved_at',\n",
    "            'order_delivered_customer_date', 'order_delivered_carrier_date',\n",
    "            'order_estimated_delivery_date']\n",
    "for col in datetime:\n",
    "    df_3[col] = df_3[col].astype('datetime64')\n",
    "\n",
    "print(df_3.info())\n",
    "\n",
    "df_3[['order_purchase_timestamp', 'order_delivered_customer_date']] = df_3[[\n",
    "    'order_purchase_timestamp', 'order_delivered_customer_date']].apply(pd.to_datetime)"
   ]
  },
  {
   "cell_type": "code",
   "execution_count": 5,
   "id": "d19a81f0",
   "metadata": {
    "ExecuteTime": {
     "end_time": "2022-03-07T11:06:05.762387Z",
     "start_time": "2022-03-07T11:06:05.755117Z"
    }
   },
   "outputs": [],
   "source": [
    "def categorisation(x):\n",
    "    if x < 3:\n",
    "        return 0\n",
    "    return 1\n",
    "\n",
    "\n",
    "df_3['satisfaction'] = df_3['review_score'].map(lambda x: categorisation(x))"
   ]
  },
  {
   "cell_type": "code",
   "execution_count": 6,
   "id": "10a36600",
   "metadata": {
    "ExecuteTime": {
     "end_time": "2022-03-07T11:06:05.776840Z",
     "start_time": "2022-03-07T11:06:05.764510Z"
    }
   },
   "outputs": [],
   "source": [
    "df_3['temps_livraisons'] = (df_3.order_delivered_customer_date -\n",
    "                            df_3.order_purchase_timestamp).dt.round('1d').dt.days\n",
    "\n",
    "df_3['retard_livraisons'] = (df_3.order_delivered_customer_date -\n",
    "                             df_3.order_estimated_delivery_date).dt.round('1d').dt.days\n",
    "\n",
    "\n",
    "def retard(x):\n",
    "    if x < 0:\n",
    "        return 0\n",
    "    return x\n",
    "\n",
    "\n",
    "df_3['retard_livraisons'] = df_3['retard_livraisons'].map(lambda x: retard(x))"
   ]
  },
  {
   "cell_type": "code",
   "execution_count": 7,
   "id": "01c31add",
   "metadata": {
    "ExecuteTime": {
     "end_time": "2022-03-07T11:06:05.793035Z",
     "start_time": "2022-03-07T11:06:05.778282Z"
    }
   },
   "outputs": [],
   "source": [
    "def noms(x):\n",
    "    if x in ['bed_bath_table', 'health_beauty', 'sports_leisure', 'furniture_decor',\n",
    "             'computers_accessories', 'housewares', 'watches_gifts', 'telephony',\n",
    "             'garden_tools', 'auto', 'toys', 'cool_stuff', 'perfumery', 'baby',\n",
    "             'electronics']:\n",
    "        return x\n",
    "    return 'autres'\n",
    "\n",
    "\n",
    "df_3['prodcut_category_name'] = df_3['product_category_name_english'].map(\n",
    "    lambda x: noms(x))\n",
    "\n",
    "df_3.drop(\"product_category_name_english\", axis=1, inplace=True)"
   ]
  },
  {
   "cell_type": "code",
   "execution_count": 8,
   "id": "1c656657",
   "metadata": {
    "ExecuteTime": {
     "end_time": "2022-03-07T11:06:05.807945Z",
     "start_time": "2022-03-07T11:06:05.794637Z"
    }
   },
   "outputs": [],
   "source": [
    "df_3['mois_vente'] = pd.Series(pd.Categorical(\n",
    "    df['order_purchase_timestamp'].dt.month))"
   ]
  },
  {
   "cell_type": "code",
   "execution_count": 9,
   "id": "5c4df03c",
   "metadata": {
    "ExecuteTime": {
     "end_time": "2022-03-07T11:06:05.829701Z",
     "start_time": "2022-03-07T11:06:05.810081Z"
    }
   },
   "outputs": [],
   "source": [
    "categories_client = df_3.groupby([\"customer_unique_id\", \"prodcut_category_name\"]).agg({\n",
    "    'order_item_id': 'count'}).unstack()\n",
    "categories_client.fillna(0, inplace=True)\n",
    "categories_client.columns = categories_client.columns.droplevel(0)\n",
    "categories_client[\"total_items\"] = categories_client.sum(axis=1)"
   ]
  },
  {
   "cell_type": "code",
   "execution_count": 10,
   "id": "42b199ec",
   "metadata": {
    "ExecuteTime": {
     "end_time": "2022-03-07T11:06:05.851852Z",
     "start_time": "2022-03-07T11:06:05.831249Z"
    }
   },
   "outputs": [],
   "source": [
    "products_per_order = df_3.groupby([\"customer_unique_id\", 'order_id']).agg({\n",
    "    \"order_item_id\": \"count\"})\n",
    "\n",
    "products_per_order = products_per_order.rename(\n",
    "    columns={\"order_item_id\": \"products_per_order_mean\"})\n",
    "\n",
    "products_per_order = products_per_order.groupby(\"customer_unique_id\")\\\n",
    "    .agg({\"products_per_order_mean\": \"mean\"})"
   ]
  },
  {
   "cell_type": "code",
   "execution_count": 11,
   "id": "f3a7fe2a",
   "metadata": {
    "ExecuteTime": {
     "end_time": "2022-03-07T11:06:05.869586Z",
     "start_time": "2022-03-07T11:06:05.854015Z"
    }
   },
   "outputs": [
    {
     "data": {
      "text/html": [
       "<div>\n",
       "<style scoped>\n",
       "    .dataframe tbody tr th:only-of-type {\n",
       "        vertical-align: middle;\n",
       "    }\n",
       "\n",
       "    .dataframe tbody tr th {\n",
       "        vertical-align: top;\n",
       "    }\n",
       "\n",
       "    .dataframe thead th {\n",
       "        text-align: right;\n",
       "    }\n",
       "</style>\n",
       "<table border=\"1\" class=\"dataframe\">\n",
       "  <thead>\n",
       "    <tr style=\"text-align: right;\">\n",
       "      <th></th>\n",
       "      <th>customer_unique_id</th>\n",
       "      <th>customer_state</th>\n",
       "      <th>mois_vente</th>\n",
       "    </tr>\n",
       "  </thead>\n",
       "  <tbody>\n",
       "    <tr>\n",
       "      <th>0</th>\n",
       "      <td>3129dce5dc566246ea1354bff5bb6fea</td>\n",
       "      <td>autres</td>\n",
       "      <td>4</td>\n",
       "    </tr>\n",
       "    <tr>\n",
       "      <th>1</th>\n",
       "      <td>14f64911f31f3722899596d1095a233e</td>\n",
       "      <td>MG</td>\n",
       "      <td>6</td>\n",
       "    </tr>\n",
       "    <tr>\n",
       "      <th>2</th>\n",
       "      <td>14f64911f31f3722899596d1095a233e</td>\n",
       "      <td>MG</td>\n",
       "      <td>12</td>\n",
       "    </tr>\n",
       "    <tr>\n",
       "      <th>3</th>\n",
       "      <td>14f64911f31f3722899596d1095a233e</td>\n",
       "      <td>MG</td>\n",
       "      <td>12</td>\n",
       "    </tr>\n",
       "    <tr>\n",
       "      <th>4</th>\n",
       "      <td>53829feb906370f277393325399b8487</td>\n",
       "      <td>SP</td>\n",
       "      <td>5</td>\n",
       "    </tr>\n",
       "  </tbody>\n",
       "</table>\n",
       "</div>"
      ],
      "text/plain": [
       "                 customer_unique_id customer_state mois_vente\n",
       "0  3129dce5dc566246ea1354bff5bb6fea         autres          4\n",
       "1  14f64911f31f3722899596d1095a233e             MG          6\n",
       "2  14f64911f31f3722899596d1095a233e             MG         12\n",
       "3  14f64911f31f3722899596d1095a233e             MG         12\n",
       "4  53829feb906370f277393325399b8487             SP          5"
      ]
     },
     "execution_count": 11,
     "metadata": {},
     "output_type": "execute_result"
    }
   ],
   "source": [
    "def noms(x):\n",
    "    if x in ['SP', 'RJ', 'MG', 'RS',\n",
    "             'PR', 'SC']:\n",
    "        return x\n",
    "    return 'autres'\n",
    "\n",
    "\n",
    "df_3['customer_state'] = df_3['customer_state'].map(lambda x: noms(x))\n",
    "\n",
    "df_f = df_3.reindex(columns=[\"customer_unique_id\",\n",
    "                    \"customer_state\", 'mois_vente'])\n",
    "df_f.head()"
   ]
  },
  {
   "cell_type": "code",
   "execution_count": 12,
   "id": "8e6a3b52",
   "metadata": {
    "ExecuteTime": {
     "end_time": "2022-03-07T11:06:05.892204Z",
     "start_time": "2022-03-07T11:06:05.875467Z"
    }
   },
   "outputs": [],
   "source": [
    "recurencies = df_3.groupby(\"customer_unique_id\")\\\n",
    "    .agg({\"order_purchase_timestamp\": [\"min\", \"max\"]})\n",
    "recurencies.columns = recurencies.columns.droplevel(0)\n",
    "\n",
    "recurencies['delay_e_commande'] = (\n",
    "    recurencies[\"max\"] - recurencies[\"min\"]).round('1d')\n",
    "recurencies['max_comma'] = df_3['order_purchase_timestamp'].max()\n",
    "recurencies['order_total_delais'] = (\n",
    "    recurencies['max_comma'] - recurencies['max']).round('1d')\n",
    "\n",
    "recurencies.drop([\"min\", \"max\", 'max_comma'], axis=1, inplace=True)"
   ]
  },
  {
   "cell_type": "code",
   "execution_count": 13,
   "id": "5c009526",
   "metadata": {
    "ExecuteTime": {
     "end_time": "2022-03-07T11:06:05.902343Z",
     "start_time": "2022-03-07T11:06:05.893837Z"
    }
   },
   "outputs": [],
   "source": [
    "recurencies['delay_e_commande'] = recurencies['delay_e_commande'].dt.days.astype(\n",
    "    'int64')\n",
    "recurencies['order_total_delais'] = recurencies['order_total_delais'].dt.days.astype(\n",
    "    'int64')\n",
    "\n",
    "recurencies.drop(['delay_e_commande'], axis=1, inplace=True)"
   ]
  },
  {
   "cell_type": "code",
   "execution_count": 14,
   "id": "34965ff9",
   "metadata": {
    "ExecuteTime": {
     "end_time": "2022-03-07T11:06:05.911173Z",
     "start_time": "2022-03-07T11:06:05.905028Z"
    }
   },
   "outputs": [],
   "source": [
    "df_3 = df_3.rename(columns={\"order_id\": \"nb_commandes\",\n",
    "                            \"retard_livraisons\": \"retard_livraisons_mean\",\n",
    "                            \"temps_livraisons\": \"temps_livraisons_mean\",\n",
    "                            \"satisfaction\": \"satisfaction_mean\",\n",
    "                            \"review_score\": \"review_score_mean\",\n",
    "                            \"freight_value\": \"fdp_total\",\n",
    "                            \"price\": \"price_total\",\n",
    "                            \"payment_sequential\": \"moyen_payment_mean\",\n",
    "                            \"payment_installments\": \"versement_payment_mean\"\n",
    "                            })"
   ]
  },
  {
   "cell_type": "code",
   "execution_count": 15,
   "id": "18bd0aae",
   "metadata": {
    "ExecuteTime": {
     "end_time": "2022-03-07T11:06:07.438639Z",
     "start_time": "2022-03-07T11:06:05.912786Z"
    }
   },
   "outputs": [],
   "source": [
    "df_3 = df_3.groupby('customer_unique_id')\\\n",
    "    .agg({'nb_commandes': 'nunique',\n",
    "          'retard_livraisons_mean': 'mean',\n",
    "          'temps_livraisons_mean': 'mean',\n",
    "          'satisfaction_mean': 'mean',\n",
    "          'review_score_mean': 'mean',\n",
    "          'fdp_total': 'sum',\n",
    "          'price_total': 'sum',\n",
    "          'moyen_payment_mean': 'mean',\n",
    "          'versement_payment_mean': 'mean',\n",
    "          'Year': lambda x: x.value_counts().index[0]})\n",
    "\n",
    "df_3 = pd.merge(df_3, categories_client,\n",
    "                how=\"left\",\n",
    "                on=\"customer_unique_id\")\n",
    "\n",
    "df_3 = pd.merge(df_3, products_per_order,\n",
    "                how='left',\n",
    "                on='customer_unique_id')\n",
    "\n",
    "df_3 = pd.merge(df_3, df_f,\n",
    "                how='left',\n",
    "                on='customer_unique_id')\n",
    "\n",
    "df_3 = pd.merge(df_3, recurencies,\n",
    "                how='left',\n",
    "                on='customer_unique_id')"
   ]
  },
  {
   "cell_type": "code",
   "execution_count": 16,
   "id": "07a766e9",
   "metadata": {
    "ExecuteTime": {
     "end_time": "2022-03-07T11:06:07.460452Z",
     "start_time": "2022-03-07T11:06:07.440571Z"
    }
   },
   "outputs": [],
   "source": [
    "df_3.drop_duplicates(subset=\"customer_unique_id\", keep=\"first\", inplace=True)"
   ]
  },
  {
   "cell_type": "code",
   "execution_count": 17,
   "id": "c525cb50",
   "metadata": {
    "ExecuteTime": {
     "end_time": "2022-03-07T11:06:07.475351Z",
     "start_time": "2022-03-07T11:06:07.464328Z"
    }
   },
   "outputs": [],
   "source": [
    "borne = round(np.percentile(df_3[\"price_total\"].values, 99), 2)\n",
    "df_3 = df_3.loc[df_3[\"price_total\"] < borne]\n",
    "\n",
    "borne = round(np.percentile(df_3[\"fdp_total\"].values, 99), 2)\n",
    "df_3 = df_3.loc[df_3[\"fdp_total\"] < borne]"
   ]
  },
  {
   "cell_type": "code",
   "execution_count": 18,
   "id": "abc87bb4",
   "metadata": {
    "ExecuteTime": {
     "end_time": "2022-03-07T11:06:07.481409Z",
     "start_time": "2022-03-07T11:06:07.477475Z"
    }
   },
   "outputs": [
    {
     "name": "stdout",
     "output_type": "stream",
     "text": [
      "Nombre de lignes 6152 et 32 variables\n"
     ]
    }
   ],
   "source": [
    "print(\"Nombre de lignes {} et {} variables\".format(\n",
    "    df_3.shape[0], df_3.shape[1]))"
   ]
  },
  {
   "cell_type": "markdown",
   "id": "2c3fa68b",
   "metadata": {},
   "source": [
    "# Exportation du dataset final"
   ]
  },
  {
   "cell_type": "code",
   "execution_count": 19,
   "id": "227fa269",
   "metadata": {
    "ExecuteTime": {
     "end_time": "2022-03-07T11:06:07.617786Z",
     "start_time": "2022-03-07T11:06:07.486640Z"
    }
   },
   "outputs": [],
   "source": [
    "df_3.to_csv('customers-segmentation-aout.csv')"
   ]
  },
  {
   "cell_type": "code",
   "execution_count": null,
   "id": "bcbe90e4",
   "metadata": {},
   "outputs": [],
   "source": []
  }
 ],
 "metadata": {
  "kernelspec": {
   "display_name": "Python 3 (ipykernel)",
   "language": "python",
   "name": "python3"
  },
  "language_info": {
   "codemirror_mode": {
    "name": "ipython",
    "version": 3
   },
   "file_extension": ".py",
   "mimetype": "text/x-python",
   "name": "python",
   "nbconvert_exporter": "python",
   "pygments_lexer": "ipython3",
   "version": "3.9.7"
  }
 },
 "nbformat": 4,
 "nbformat_minor": 5
}
